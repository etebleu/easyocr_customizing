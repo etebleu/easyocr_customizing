{
 "cells": [
  {
   "cell_type": "code",
   "execution_count": null,
   "id": "aa6d298a",
   "metadata": {},
   "outputs": [],
   "source": [
    "import os\n",
    "import imutils\n",
    "import easyocr\n",
    "import cv2\n",
    "import re\n",
    "import requests\n",
    "import random\n",
    "import numpy as np\n",
    "from matplotlib import pyplot as plt\n",
    "from imutils.perspective import four_point_transform\n",
    "from imutils.contours import sort_contours\n",
    "from PIL import ImageFont, ImageDraw, Image\n",
    "\n",
    "from easyocr.utils import group_text_box, get_image_list, calculate_md5, get_paragraph,\\\n",
    "                   download_and_unzip, printProgressBar, diff, reformat_input,\\\n",
    "                   make_rotated_img_list, set_result_with_confidence,\\\n",
    "                   reformat_input_batched, merge_to_free"
   ]
  },
  {
   "cell_type": "code",
   "execution_count": null,
   "id": "3599881c",
   "metadata": {},
   "outputs": [],
   "source": [
    "def plt_imshow(title='image', img=None, figsize=(8,5)):\n",
    "    plt.figure(figsize=figsize)\n",
    " \n",
    "    if type(img) == list:\n",
    "        if type(title) == list:\n",
    "            titles = title\n",
    "        else:\n",
    "            titles = []\n",
    " \n",
    "            for i in range(len(img)):\n",
    "                titles.append(title)\n",
    " \n",
    "        for i in range(len(img)):\n",
    "            if len(img[i].shape) <= 2:\n",
    "                rgbImg = cv2.cvtColor(img[i], cv2.COLOR_GRAY2RGB)\n",
    "            else:\n",
    "                rgbImg = cv2.cvtColor(img[i], cv2.COLOR_BGR2RGB)\n",
    " \n",
    "            plt.subplot(1, len(img), i + 1), plt.imshow(rgbImg)\n",
    "            plt.title(titles[i])\n",
    "            plt.xticks([]), plt.yticks([])\n",
    " \n",
    "        plt.show()\n",
    "    else:\n",
    "        if len(img.shape) < 3:\n",
    "            rgbImg = cv2.cvtColor(img, cv2.COLOR_GRAY2RGB)\n",
    "        else:\n",
    "            rgbImg = cv2.cvtColor(img, cv2.COLOR_BGR2RGB)\n",
    " \n",
    "        plt.imshow(rgbImg)\n",
    "        plt.title(title)\n",
    "        plt.xticks([]), plt.yticks([])\n",
    "        plt.show()\n",
    "        \n",
    "\n",
    "def put_text(cv_img, text, x, y, color=(0, 0, 0), font_size=22):\n",
    "  # Colab이 아닌 Local에서 수행 시에는 gulim.ttc 를 사용하면 됩니다.\n",
    "  # font = ImageFont.truetype(\"fonts/gulim.ttc\", font_size)\n",
    "  font = ImageFont.truetype('/usr/share/fonts/truetype/nanum/NanumGothicBold.ttf', font_size)\n",
    "  img = Image.fromarray(cv_img)\n",
    "\n",
    "  draw = ImageDraw.Draw(img)\n",
    "  draw.text((x, y), text, font=font, fill=color)\n",
    "\n",
    "  cv_img = np.array(img)\n",
    "\n",
    "  return cv_img"
   ]
  },
  {
   "cell_type": "markdown",
   "id": "b91bbb80",
   "metadata": {},
   "source": [
    "### Opt.1) default model : korean_g1"
   ]
  },
  {
   "cell_type": "code",
   "execution_count": null,
   "id": "4ff204cf",
   "metadata": {},
   "outputs": [],
   "source": [
    "lang_list = ['ko', 'en']\n",
    "model_dir = 'models'\n",
    "detect_network = 'craft'\n",
    "recog_network = 'korean_g1'\n",
    "\n",
    "reader = easyocr.Reader(gpu=True,\n",
    "                        lang_list=lang_list,\n",
    "                        model_storage_directory=model_dir,\n",
    "                        detect_network=detect_network,\n",
    "                        recog_network=recog_network,\n",
    "                        cudnn_benchmark=False)"
   ]
  },
  {
   "cell_type": "markdown",
   "id": "28029094",
   "metadata": {},
   "source": [
    "### Opt.1.1) default model : korean_g2"
   ]
  },
  {
   "cell_type": "code",
   "execution_count": null,
   "id": "d7a391c6",
   "metadata": {},
   "outputs": [],
   "source": [
    "lang_list = ['ko', 'en']\n",
    "model_dir = 'models'\n",
    "detect_network = 'craft'\n",
    "recog_network = 'korean_g2'\n",
    "\n",
    "reader = easyocr.Reader(gpu=True,\n",
    "                        lang_list=lang_list,\n",
    "                        model_storage_directory=model_dir,\n",
    "                        detect_network=detect_network,\n",
    "                        recog_network=recog_network,\n",
    "                        cudnn_benchmark=False)"
   ]
  },
  {
   "cell_type": "markdown",
   "id": "cbc28688",
   "metadata": {},
   "source": [
    "### Opt.2) custom model"
   ]
  },
  {
   "cell_type": "code",
   "execution_count": null,
   "id": "3e4da669",
   "metadata": {},
   "outputs": [],
   "source": [
    "lang_list = ['kai_ko', 'kai_en', 'kai_hj']\n",
    "model_dir = 'models'\n",
    "detect_network = 'craft_doc_v3'\n",
    "recog_network = 'kai_v1'\n",
    "\n",
    "reader = easyocr.Reader(gpu=True,\n",
    "                        lang_list=lang_list,\n",
    "                        model_storage_directory=model_dir,\n",
    "                        detect_network=detect_network,\n",
    "                        recog_network=recog_network,\n",
    "                        cudnn_benchmark=False)"
   ]
  },
  {
   "cell_type": "markdown",
   "id": "a4106ba4",
   "metadata": {},
   "source": [
    "### Opt.3) custom detection + default recognition"
   ]
  },
  {
   "cell_type": "code",
   "execution_count": null,
   "id": "8fa7aba5",
   "metadata": {},
   "outputs": [],
   "source": [
    "lang_list = ['ko', 'en']\n",
    "model_dir = 'models'\n",
    "detect_network = 'craft_doc_v3'\n",
    "recog_network = 'korean_g2'\n",
    "\n",
    "reader = easyocr.Reader(gpu=True,\n",
    "                        lang_list=lang_list,\n",
    "                        model_storage_directory=model_dir,\n",
    "                        detect_network=detect_network,\n",
    "                        recog_network=recog_network,\n",
    "                        cudnn_benchmark=False)"
   ]
  },
  {
   "cell_type": "markdown",
   "id": "d44f4edc",
   "metadata": {},
   "source": [
    "### Opt.4) default detection + custom recognition"
   ]
  },
  {
   "cell_type": "code",
   "execution_count": null,
   "id": "3af15d9a",
   "metadata": {},
   "outputs": [],
   "source": [
    "lang_list = ['kai_ko', 'kai_en', 'kai_hj']\n",
    "model_dir = 'models'\n",
    "detect_network = 'craft'\n",
    "recog_network = 'kai_v1'\n",
    "\n",
    "reader = easyocr.Reader(gpu=True,\n",
    "                        lang_list=lang_list,\n",
    "                        model_storage_directory=model_dir,\n",
    "                        detect_network=detect_network,\n",
    "                        recog_network=recog_network,\n",
    "                        cudnn_benchmark=False)"
   ]
  },
  {
   "cell_type": "markdown",
   "id": "f8749bbc",
   "metadata": {},
   "source": [
    "## 검출+인식 테스트"
   ]
  },
  {
   "cell_type": "code",
   "execution_count": null,
   "id": "33a23e63",
   "metadata": {
    "scrolled": false
   },
   "outputs": [],
   "source": [
    "img_dir = 'idcard_test_images'\n",
    "file_list = [file for file in os.listdir(img_dir)]\n",
    "img_path = os.path.join(img_dir, file_list[10])\n",
    "print(img_path)\n",
    "ori_img = cv2.imread(img_path)\n",
    "\n",
    "result = reader.readtext(image=ori_img,\n",
    "                         text_threshold=0.85,\n",
    "                         low_text=0.5, #이 값에 따라 인식 문자값이 많이 달라짐\n",
    "                         link_threshold=0.2,\n",
    "                         canvas_size=2240,\n",
    "                         mag_ratio=1.75,\n",
    "                         contrast_ths=0.2 # 예측 confidence가 임계치보다 낮으면, contrast 적용 후 인식 재진행\n",
    "                        )\n",
    "\n",
    "\n",
    "result_img = ori_img.copy()\n",
    "text_img = np.ones(shape=ori_img.shape, dtype=np.uint8) * 255\n",
    "# loop over the results\n",
    "for (bbox, text, prob) in result:\n",
    "    #code_res = re.findall(code_pattern, text)\n",
    "    #if len(code_res) > 0:\n",
    "    #    text = text.split('-')[0]\n",
    "    print(\"[INFO] {:.4f}: {}\".format(prob, text))\n",
    "\n",
    "    (tl, tr, br, bl) = bbox\n",
    "    tl = (int(tl[0]), int(tl[1]))\n",
    "    tr = (int(tr[0]), int(tr[1]))\n",
    "    br = (int(br[0]), int(br[1]))\n",
    "    bl = (int(bl[0]), int(bl[1]))\n",
    "\n",
    "    # 추출한 영역에 사각형을 그리고 인식한 글자를 표기합니다.\n",
    "    cv2.rectangle(result_img, tl, br, (0, 255, 255), 2)\n",
    "    text_img = put_text(text_img, text, tl[0], tl[1], (255, 0, 0), 34)\n",
    "    #cv2.putText(business_card_image, text, (tl[0], tl[1] - 10), cv2.FONT_HERSHEY_SIMPLEX, 0.8, (0, 255, 0), 2)\n",
    "\n",
    "result_imgs = [result_img, text_img]\n",
    "plt_imshow(title=['OCR Detection', 'OCR Recognition'], img=result_imgs, figsize=(18,12))"
   ]
  },
  {
   "cell_type": "code",
   "execution_count": null,
   "id": "8e8aa83e",
   "metadata": {},
   "outputs": [],
   "source": [
    "plt_imshow('OCR Recognition', img=text_img, figsize=(20,16))"
   ]
  },
  {
   "cell_type": "code",
   "execution_count": null,
   "id": "f6501b46",
   "metadata": {},
   "outputs": [],
   "source": [
    "low_confident_idx = [0]\n"
   ]
  },
  {
   "cell_type": "code",
   "execution_count": null,
   "id": "561cca6a",
   "metadata": {},
   "outputs": [],
   "source": [
    "file_list"
   ]
  },
  {
   "cell_type": "code",
   "execution_count": null,
   "id": "267f972e",
   "metadata": {},
   "outputs": [],
   "source": []
  },
  {
   "cell_type": "code",
   "execution_count": null,
   "id": "ec14f986",
   "metadata": {},
   "outputs": [],
   "source": []
  },
  {
   "cell_type": "code",
   "execution_count": null,
   "id": "250acfca",
   "metadata": {},
   "outputs": [],
   "source": [
    "import os\n",
    "import imutils\n",
    "import easyocr\n",
    "import cv2\n",
    "import re\n",
    "import requests\n",
    "import random\n",
    "import numpy as np\n",
    "from matplotlib import pyplot as plt\n",
    "from imutils.perspective import four_point_transform\n",
    "from imutils.contours import sort_contours\n",
    "from PIL import ImageFont, ImageDraw, Image\n",
    "\n",
    "from easyocr.utils import group_text_box, get_image_list, calculate_md5, get_paragraph,\\\n",
    "                   download_and_unzip, printProgressBar, diff, reformat_input,\\\n",
    "                   make_rotated_img_list, set_result_with_confidence,\\\n",
    "                   reformat_input_batched, merge_to_free\n",
    "\n",
    "def plt_imshow(title='image', img=None, figsize=(8,5)):\n",
    "    plt.figure(figsize=figsize)\n",
    " \n",
    "    if type(img) == list:\n",
    "        if type(title) == list:\n",
    "            titles = title\n",
    "        else:\n",
    "            titles = []\n",
    " \n",
    "            for i in range(len(img)):\n",
    "                titles.append(title)\n",
    " \n",
    "        for i in range(len(img)):\n",
    "            if len(img[i].shape) <= 2:\n",
    "                rgbImg = cv2.cvtColor(img[i], cv2.COLOR_GRAY2RGB)\n",
    "            else:\n",
    "                rgbImg = cv2.cvtColor(img[i], cv2.COLOR_BGR2RGB)\n",
    " \n",
    "            plt.subplot(1, len(img), i + 1), plt.imshow(rgbImg)\n",
    "            plt.title(titles[i])\n",
    "            plt.xticks([]), plt.yticks([])\n",
    " \n",
    "        plt.show()\n",
    "    else:\n",
    "        if len(img.shape) < 3:\n",
    "            rgbImg = cv2.cvtColor(img, cv2.COLOR_GRAY2RGB)\n",
    "        else:\n",
    "            rgbImg = cv2.cvtColor(img, cv2.COLOR_BGR2RGB)\n",
    " \n",
    "        plt.imshow(rgbImg)\n",
    "        plt.title(title)\n",
    "        plt.xticks([]), plt.yticks([])\n",
    "        plt.show()\n",
    "        \n",
    "\n",
    "def put_text(cv_img, text, x, y, color=(0, 0, 0), font_size=22):\n",
    "  # Colab이 아닌 Local에서 수행 시에는 gulim.ttc 를 사용하면 됩니다.\n",
    "  # font = ImageFont.truetype(\"fonts/gulim.ttc\", font_size)\n",
    "  font = ImageFont.truetype('/usr/share/fonts/truetype/nanum/NanumGothicBold.ttf', font_size)\n",
    "  img = Image.fromarray(cv_img)\n",
    "\n",
    "  draw = ImageDraw.Draw(img)\n",
    "  draw.text((x, y), text, font=font, fill=color)\n",
    "\n",
    "  cv_img = np.array(img)\n",
    "\n",
    "  return cv_img"
   ]
  },
  {
   "cell_type": "code",
   "execution_count": null,
   "id": "ae02bda6",
   "metadata": {},
   "outputs": [],
   "source": [
    "lang_list = ['kai_ko', 'kai_en', 'kai_hj']\n",
    "model_dir = 'models'\n",
    "detect_network = 'craft_doc_v3'\n",
    "recog_network = 'kai_v1'\n",
    "\n",
    "reader = easyocr.Reader(gpu=True,\n",
    "                        lang_list=lang_list,\n",
    "                        model_storage_directory=model_dir,\n",
    "                        detect_network=detect_network,\n",
    "                        recog_network=recog_network,\n",
    "                        cudnn_benchmark=False)"
   ]
  },
  {
   "cell_type": "markdown",
   "id": "2e208fef",
   "metadata": {},
   "source": [
    "## 검출 테스트"
   ]
  },
  {
   "cell_type": "code",
   "execution_count": null,
   "id": "7d0b7a46",
   "metadata": {},
   "outputs": [],
   "source": [
    "img_dir = 'idcard_test_images'\n",
    "file_list = [file for file in os.listdir(img_dir)]\n",
    "img_path = os.path.join(img_dir, file_list[20])\n",
    "img = cv2.imread(img_path)\n",
    "img_cv_grey = cv2.cvtColor(img, cv2.COLOR_BGR2GRAY)\n",
    "\n",
    "text_box_list, horizontal_list, free_list = reader.detect(img, \n",
    "                                         min_size = 20, text_threshold = 0.85,\\\n",
    "                                         low_text = 0.5, link_threshold = 0.2,\\\n",
    "                                         canvas_size = 2240, mag_ratio = 1.75,\\\n",
    "                                         slope_ths = 0.1, ycenter_ths = 0.5,\\\n",
    "                                         height_ths = 0.5, width_ths= 0.5,\\\n",
    "                                         add_margin = 0.1, reformat = False,\\\n",
    "                                         threshold = 0.2, bbox_min_score = 0.2,\\\n",
    "                                         bbox_min_size = 3, max_candidates = 0)\n",
    "\n",
    "# get the 1st result from hor & free list as self.detect returns a list of depth 3\n",
    "horizontal_list, free_list = horizontal_list[0], free_list[0]\n",
    "\n",
    "bbox_list = []\n",
    "maximum_y,maximum_x = img.shape[:2]\n",
    "for box in horizontal_list:\n",
    "    x_min = max(0,box[0])\n",
    "    x_max = min(box[1],maximum_x)\n",
    "    y_min = max(0,box[2])\n",
    "    y_max = min(box[3],maximum_y)\n",
    "    width = x_max - x_min\n",
    "    height = y_max - y_min\n",
    "    \n",
    "    bbox_list.append([[x_min,y_min],[x_max,y_min],[x_max,y_max],[x_min,y_max]])\n",
    "    \n",
    "\n",
    "result_img = img.copy()\n",
    "# loop over the results\n",
    "for bbox in bbox_list:\n",
    "    (tl, tr, br, bl) = bbox\n",
    "    \n",
    "    tl = (int(tl[0]), int(tl[1]))\n",
    "    tr = (int(tr[0]), int(tr[1]))\n",
    "    br = (int(br[0]), int(br[1]))\n",
    "    bl = (int(bl[0]), int(bl[1]))\n",
    "\n",
    "    # 추출한 영역에 사각형을 그리고 인식한 글자를 표기합니다.\n",
    "    cv2.rectangle(result_img, tl, br, (0, 255, 255), 2)\n",
    "\n",
    "#plt_imshow(title='detect', img=result_img, figsize=(20,16))"
   ]
  },
  {
   "cell_type": "code",
   "execution_count": null,
   "id": "155e464a",
   "metadata": {},
   "outputs": [],
   "source": [
    "text_box_list\n",
    "text_box = text_box_list[0]         "
   ]
  },
  {
   "cell_type": "code",
   "execution_count": null,
   "id": "7e136c39",
   "metadata": {},
   "outputs": [],
   "source": [
    "text_box"
   ]
  },
  {
   "cell_type": "code",
   "execution_count": null,
   "id": "167f02e6",
   "metadata": {},
   "outputs": [],
   "source": [
    "horizontal_list, free_list,combined_list, merged_list = [],[],[],[]\n",
    "\n",
    "slope_ths = 0.1\n",
    "ycenter_ths = 0.5                                         \n",
    "height_ths = 0.5 \n",
    "width_ths= 0.5\n",
    "add_margin = 0.1\n",
    "sort_output = True\n",
    "\n",
    "for i,poly in enumerate(text_box):\n",
    "    slope_up = (poly[3]-poly[1])/np.maximum(10, (poly[2]-poly[0]))\n",
    "    #print('slope_up: {}'.format(slope_up))\n",
    "    slope_down = (poly[5]-poly[7])/np.maximum(10, (poly[4]-poly[6]))\n",
    "    #print('slope_down: {}'.format(slope_up))\n",
    "    if max(abs(slope_up), abs(slope_down)) < slope_ths:\n",
    "        x_max = max([poly[0],poly[2],poly[4],poly[6]])\n",
    "        x_min = min([poly[0],poly[2],poly[4],poly[6]])\n",
    "        y_max = max([poly[1],poly[3],poly[5],poly[7]])\n",
    "        y_min = min([poly[1],poly[3],poly[5],poly[7]])\n",
    "        print([x_min, x_max, y_min, y_max, 0.5*(y_min+y_max), y_max-y_min])\n",
    "        horizontal_list.append([x_min, x_max, y_min, y_max, 0.5*(y_min+y_max), y_max-y_min])\n",
    "    else:\n",
    "        height = np.linalg.norm([poly[6]-poly[0],poly[7]-poly[1]])\n",
    "        width = np.linalg.norm([poly[2]-poly[0],poly[3]-poly[1]])\n",
    "\n",
    "        margin = int(1.44*add_margin*min(width, height))\n",
    "\n",
    "        theta13 = abs(np.arctan( (poly[1]-poly[5])/np.maximum(10, (poly[0]-poly[4]))))\n",
    "        theta24 = abs(np.arctan( (poly[3]-poly[7])/np.maximum(10, (poly[2]-poly[6]))))\n",
    "        # do I need to clip minimum, maximum value here?\n",
    "        x1 = poly[0] - np.cos(theta13)*margin\n",
    "        y1 = poly[1] - np.sin(theta13)*margin\n",
    "        x2 = poly[2] + np.cos(theta24)*margin\n",
    "        y2 = poly[3] - np.sin(theta24)*margin\n",
    "        x3 = poly[4] + np.cos(theta13)*margin\n",
    "        y3 = poly[5] + np.sin(theta13)*margin\n",
    "        x4 = poly[6] - np.cos(theta24)*margin\n",
    "        y4 = poly[7] + np.sin(theta24)*margin\n",
    "\n",
    "        free_list.append([[x1,y1],[x2,y2],[x3,y3],[x4,y4]])\n",
    "#if sort_output:\n",
    "#    horizontal_list = sorted(horizontal_list, key=lambda item: item[4])"
   ]
  },
  {
   "cell_type": "code",
   "execution_count": null,
   "id": "4e9b44a1",
   "metadata": {},
   "outputs": [],
   "source": [
    "horizontal_list"
   ]
  },
  {
   "cell_type": "code",
   "execution_count": null,
   "id": "6dcc1a7d",
   "metadata": {},
   "outputs": [],
   "source": [
    "[[56, 449, 45, 81, 63.0, 36],\n",
    " [557, 867, 69, 112, 90.5, 43],\n",
    " [885, 996, 82, 111, 96.5, 29],\n",
    " [1019, 1141, 84, 112, 98.0, 28],\n",
    " [996, 1011, 88, 109, 98.5, 21],\n",
    " [486, 1011, 139, 187, 163.0, 48],\n",
    " [483, 701, 226, 273, 249.5, 47],\n",
    " [477, 837, 288, 321, 304.5, 33],\n",
    " [480, 586, 340, 374, 357.0, 34],\n",
    " [1019, 1065, 342, 373, 357.5, 31],\n",
    " [608, 716, 339, 378, 358.5, 39],\n",
    " [737, 922, 340, 378, 359.0, 38],\n",
    " [944, 1002, 344, 381, 362.5, 37],\n",
    " [554, 685, 385, 419, 402.0, 34],\n",
    " [476, 536, 385, 420, 402.5, 35],\n",
    " [476, 958, 429, 472, 450.5, 43],\n",
    " [709, 922, 490, 528, 509.0, 38],\n",
    " [766, 978, 538, 571, 554.5, 33],\n",
    " [1022, 1144, 558, 585, 571.5, 27],\n",
    " [701, 1077, 684, 731, 707.5, 47],\n",
    " [473, 691, 691, 726, 708.5, 35]]"
   ]
  },
  {
   "cell_type": "code",
   "execution_count": null,
   "id": "36b9b0ff",
   "metadata": {},
   "outputs": [],
   "source": [
    "# combine box\n",
    "new_box = []\n",
    "combined_list = []\n",
    "\n",
    "for poly in horizontal_list:\n",
    "    if len(new_box) == 0:\n",
    "        b_height = [poly[5]]\n",
    "        b_ycenter = [poly[4]]\n",
    "        new_box.append(poly)\n",
    "    else:\n",
    "        b_height = [poly[5]]\n",
    "        b_ycenter = [poly[4]]\n",
    "        combined_list.append(new_box)\n",
    "        new_box = [poly]\n",
    "combined_list.append(new_box)\n",
    "combined_list"
   ]
  },
  {
   "cell_type": "code",
   "execution_count": null,
   "id": "329b5fc6",
   "metadata": {},
   "outputs": [],
   "source": [
    "# merge list use sort again\n",
    "merged_list = []\n",
    "for boxes in combined_list:\n",
    "    box = boxes[0]\n",
    "    print(box)\n",
    "    margin = int(add_margin*min(box[1]-box[0],box[5]))\n",
    "    print(margin)\n",
    "    merged_list.append([box[0]-margin,box[1]+margin,box[2]-margin,box[3]+margin])"
   ]
  },
  {
   "cell_type": "code",
   "execution_count": null,
   "id": "034d2014",
   "metadata": {},
   "outputs": [],
   "source": [
    "result_img = img.copy()\n",
    "# loop over the results\n",
    "\n",
    "bbox_list = []\n",
    "for box in merged_list:\n",
    "    x_min = max(0,box[0])\n",
    "    x_max = min(box[1],maximum_x)\n",
    "    y_min = max(0,box[2])\n",
    "    y_max = min(box[3],maximum_y)\n",
    "    width = x_max - x_min\n",
    "    height = y_max - y_min\n",
    "    \n",
    "    bbox_list.append([[x_min,y_min],[x_max,y_min],[x_max,y_max],[x_min,y_max]])\n",
    "    \n",
    "    \n",
    "for bbox in bbox_list:\n",
    "    (tl, tr, br, bl) = bbox\n",
    "    \n",
    "    tl = (int(tl[0]), int(tl[1]))\n",
    "    tr = (int(tr[0]), int(tr[1]))\n",
    "    br = (int(br[0]), int(br[1]))\n",
    "    bl = (int(bl[0]), int(bl[1]))\n",
    "\n",
    "    # 추출한 영역에 사각형을 그리고 인식한 글자를 표기합니다.\n",
    "    cv2.rectangle(result_img, tl, br, (0, 255, 255), 2)\n",
    "\n",
    "#plt_imshow(title='detect', img=result_img, figsize=(20,16))"
   ]
  },
  {
   "cell_type": "code",
   "execution_count": null,
   "id": "6a3aa347",
   "metadata": {},
   "outputs": [],
   "source": []
  },
  {
   "cell_type": "code",
   "execution_count": null,
   "id": "24e77e78",
   "metadata": {},
   "outputs": [],
   "source": []
  },
  {
   "cell_type": "code",
   "execution_count": null,
   "id": "593381b1",
   "metadata": {},
   "outputs": [],
   "source": [
    "horizontal_list = merged_list\n",
    "horizontal_list_agg, free_list_agg = [], []\n",
    "min_size = 20\n",
    "if min_size:\n",
    "    horizontal_list = [i for i in horizontal_list if max(\n",
    "        i[1] - i[0], i[3] - i[2]) > min_size]\n",
    "    free_list = [i for i in free_list if max(\n",
    "        diff([c[0] for c in i]), diff([c[1] for c in i])) > min_size]\n",
    "horizontal_list_agg.append(horizontal_list)\n",
    "free_list_agg.append(free_list)"
   ]
  },
  {
   "cell_type": "markdown",
   "id": "275ea7ca",
   "metadata": {},
   "source": [
    "## 검출 후 인식 테스트"
   ]
  },
  {
   "cell_type": "code",
   "execution_count": null,
   "id": "1a420f8d",
   "metadata": {},
   "outputs": [],
   "source": [
    "horizontal_list, free_list = horizontal_list_agg[0], free_list_agg[0]\n",
    "recog_result = reader.recognize(img_cv_grey, horizontal_list, free_list,\\\n",
    "                  decoder = 'greedy', beamWidth= 5, batch_size = 1,\\\n",
    "                  workers = 0, allowlist = None, blocklist = None, detail = 1,\\\n",
    "                  rotation_info = None,paragraph = False,\\\n",
    "                  contrast_ths = 0.1,adjust_contrast = 0.5, filter_ths = 0.003,\\\n",
    "                  y_ths = 0.5, x_ths = 1.0, reformat=True, output_format='standard')"
   ]
  },
  {
   "cell_type": "code",
   "execution_count": null,
   "id": "44561a28",
   "metadata": {},
   "outputs": [],
   "source": [
    "recog_result"
   ]
  },
  {
   "cell_type": "code",
   "execution_count": null,
   "id": "70989610",
   "metadata": {},
   "outputs": [],
   "source": [
    "result_img = img.copy()\n",
    "text_img = np.ones(shape=img.shape, dtype=np.uint8) * 255\n",
    "\n",
    "# loop over the results\n",
    "for (bbox, text, prob) in recog_result:\n",
    "    #code_res = re.findall(code_pattern, text)\n",
    "    #if len(code_res) > 0:\n",
    "    #    text = text.split('-')[0]\n",
    "    print(\"[INFO] {}\".format(text))\n",
    "\n",
    "    (tl, tr, br, bl) = bbox\n",
    "    tl = (int(tl[0]), int(tl[1]))\n",
    "    tr = (int(tr[0]), int(tr[1]))\n",
    "    br = (int(br[0]), int(br[1]))\n",
    "    bl = (int(bl[0]), int(bl[1]))\n",
    "    print(tl)\n",
    "    # 추출한 영역에 사각형을 그리고 인식한 글자를 표기합니다.\n",
    "    cv2.rectangle(result_img, tl, br, (0, 255, 255), 2)\n",
    "    text_img = put_text(text_img, text, tl[0], tl[1], 255, 34)\n",
    "    #cv2.putText(business_card_image, text, (tl[0], tl[1] - 10), cv2.FONT_HERSHEY_SIMPLEX, 0.8, (0, 255, 0), 2)\n",
    "\n",
    "result_imgs = [result_img, text_img]\n",
    "plt_imshow(title=['OCR Detection', 'grouping after recognition'], img=result_imgs, figsize=(18,12))"
   ]
  },
  {
   "cell_type": "code",
   "execution_count": null,
   "id": "1f87769a",
   "metadata": {},
   "outputs": [],
   "source": []
  },
  {
   "cell_type": "code",
   "execution_count": null,
   "id": "09cdfff1",
   "metadata": {},
   "outputs": [],
   "source": []
  },
  {
   "cell_type": "code",
   "execution_count": null,
   "id": "43038391",
   "metadata": {},
   "outputs": [],
   "source": []
  },
  {
   "cell_type": "code",
   "execution_count": null,
   "id": "57f49837",
   "metadata": {},
   "outputs": [],
   "source": [
    "bbox_list, text_list, score_list = [], [], []\n",
    "for result in recog_result:\n",
    "    bbox = result[0]\n",
    "    text = result[1]\n",
    "    score = result[2]\n",
    "    bbox_list.append(bbox)\n",
    "    text_list.append(text)\n",
    "    score_list.append(score)"
   ]
  },
  {
   "cell_type": "code",
   "execution_count": null,
   "id": "e90831f9",
   "metadata": {},
   "outputs": [],
   "source": [
    "# 인식 결과 중, 가까운 단어 그룹핑\n",
    "\n",
    "new_horizontal_list = []\n",
    "for bbox in bbox_list:\n",
    "    tl, tr, br, bl = bbox\n",
    "    \n",
    "    left, top = tl\n",
    "    right, bottom = br\n",
    "    \n",
    "    ycenter = 0.5*(top+bottom)\n",
    "    height = bottom-top\n",
    "    \n",
    "    new_horizontal_list.append([left, right, top, bottom, ycenter, height])"
   ]
  },
  {
   "cell_type": "code",
   "execution_count": null,
   "id": "b01a99cf",
   "metadata": {},
   "outputs": [],
   "source": [
    "new_horizontal_list"
   ]
  },
  {
   "cell_type": "code",
   "execution_count": null,
   "id": "a01483cd",
   "metadata": {},
   "outputs": [],
   "source": [
    "# combine box\n",
    "new_combined_list = []\n",
    "new_box = []\n",
    "\n",
    "combined_text_list = []\n",
    "new_text = []\n",
    "combined_score_list = []\n",
    "new_score = []\n",
    "ycenter_ths = 0.4\n",
    "for i, poly in enumerate(new_horizontal_list):\n",
    "    if len(new_box) == 0:\n",
    "        b_height = [poly[5]]\n",
    "        b_ycenter = [poly[4]]\n",
    "        new_box.append(poly)\n",
    "        new_text.append(text_list[i])\n",
    "        new_score.append(score_list[i])\n",
    "    else:\n",
    "        # comparable height and comparable y_center level up to ths*height\n",
    "        # combine 되는 애들\n",
    "        if abs(np.mean(b_ycenter) - poly[4]) < ycenter_ths*np.mean(b_height):\n",
    "            b_height.append(poly[5])\n",
    "            b_ycenter.append(poly[4])\n",
    "            new_box.append(poly)\n",
    "            new_text.append(text_list[i])\n",
    "            new_score.append(score_list[i])\n",
    "            print('if', text_list[i])\n",
    "        # 독자적인 애들\n",
    "        else:\n",
    "            b_height = [poly[5]]\n",
    "            b_ycenter = [poly[4]]\n",
    "            new_combined_list.append(new_box)\n",
    "            new_box = [poly]\n",
    "            combined_text_list.append(new_text)\n",
    "            new_text = [text_list[i]]\n",
    "            combined_score_list.append(new_score)\n",
    "            new_score = [score_list[i]]\n",
    "            print('else', text_list[i])\n",
    "new_combined_list.append(new_box)\n",
    "combined_text_list.append(new_text)\n",
    "combined_score_list.append(new_score)"
   ]
  },
  {
   "cell_type": "code",
   "execution_count": null,
   "id": "d8b93e5d",
   "metadata": {},
   "outputs": [],
   "source": [
    "ycenter_ths"
   ]
  },
  {
   "cell_type": "code",
   "execution_count": null,
   "id": "18e51101",
   "metadata": {},
   "outputs": [],
   "source": [
    "new_combined_list"
   ]
  },
  {
   "cell_type": "code",
   "execution_count": null,
   "id": "13318034",
   "metadata": {},
   "outputs": [],
   "source": [
    "combined_text_list"
   ]
  },
  {
   "cell_type": "code",
   "execution_count": null,
   "id": "5bf43e04",
   "metadata": {},
   "outputs": [],
   "source": [
    "combined_score_list"
   ]
  },
  {
   "cell_type": "code",
   "execution_count": null,
   "id": "064ea2b7",
   "metadata": {},
   "outputs": [],
   "source": [
    "result_img = img.copy()\n",
    "text_img = np.ones(shape=img.shape, dtype=np.uint8) * 255\n",
    "\n",
    "# loop over the results\n",
    "for (bbox_list, text_list, prob_list) in zip(new_combined_list, combined_text_list, combined_score_list):\n",
    "    print(\"[INFO] {}\".format(text_list))\n",
    "    text = ' '.join(text_list)\n",
    "    print(text)\n",
    "    for i, bbox in enumerate(bbox_list):\n",
    "        print(bbox)\n",
    "        if i == 0:\n",
    "            ml = bbox[0]\n",
    "            mt = bbox[2]\n",
    "            mr = bbox[1]\n",
    "            mb = bbox[3]\n",
    "            continue\n",
    "        \n",
    "        if bbox[0] < ml:\n",
    "            ml = bbox[0]\n",
    "        if bbox[2] < mt:\n",
    "            mt = bbox[2]\n",
    "        if bbox[1] > mr:\n",
    "            mr = bbox[1]\n",
    "        if bbox[3] > mb:\n",
    "            mb = bbox[3]\n",
    "    \n",
    "        \n",
    "    \n",
    "    # 추출한 영역에 사각형을 그리고 인식한 글자를 표기합니다.\n",
    "    cv2.rectangle(result_img, (ml, mt), (mr, mb), (0, 255, 255), 2)\n",
    "    text_img = put_text(text_img, text, ml, mt, 255, 34)\n",
    "    #cv2.putText(business_card_image, text, (tl[0], tl[1] - 10), cv2.FONT_HERSHEY_SIMPLEX, 0.8, (0, 255, 0), 2)\n",
    "\n",
    "result_imgs = [result_img, text_img]\n",
    "plt_imshow(title=['OCR Detection', 'grouping after recognition'], img=result_imgs, figsize=(18,12))"
   ]
  },
  {
   "cell_type": "code",
   "execution_count": null,
   "id": "fef1f2a4",
   "metadata": {},
   "outputs": [],
   "source": []
  },
  {
   "cell_type": "code",
   "execution_count": null,
   "id": "aa526d99",
   "metadata": {},
   "outputs": [],
   "source": []
  },
  {
   "cell_type": "code",
   "execution_count": null,
   "id": "24978c78",
   "metadata": {},
   "outputs": [],
   "source": []
  },
  {
   "cell_type": "code",
   "execution_count": null,
   "id": "e4af079b",
   "metadata": {},
   "outputs": [],
   "source": []
  },
  {
   "cell_type": "code",
   "execution_count": null,
   "id": "3f6781fa",
   "metadata": {},
   "outputs": [],
   "source": []
  },
  {
   "cell_type": "code",
   "execution_count": null,
   "id": "a53a6d88",
   "metadata": {},
   "outputs": [],
   "source": []
  },
  {
   "cell_type": "markdown",
   "id": "fc2a014f",
   "metadata": {},
   "source": [
    "### 검출 이후 이미지 "
   ]
  },
  {
   "cell_type": "code",
   "execution_count": null,
   "id": "5ecc96b6",
   "metadata": {},
   "outputs": [],
   "source": [
    "imgH = 32\n",
    "img, img_cv_grey = reformat_input(img)\n",
    "for bbox in horizontal_list:\n",
    "    h_list = [bbox]\n",
    "    f_list = []\n",
    "    # image_list : 1개 word\n",
    "    image_list, max_width = get_image_list(h_list, f_list, img_cv_grey, model_height = imgH)\n",
    "    "
   ]
  },
  {
   "cell_type": "code",
   "execution_count": null,
   "id": "d9ad74ba",
   "metadata": {},
   "outputs": [],
   "source": [
    "horizontal_list"
   ]
  },
  {
   "cell_type": "markdown",
   "id": "d2be8484",
   "metadata": {},
   "source": [
    "## 인식 테스트"
   ]
  },
  {
   "cell_type": "code",
   "execution_count": null,
   "id": "ca0f14ad",
   "metadata": {},
   "outputs": [],
   "source": [
    "img_dir = 'idcard_test_images'\n",
    "file_list = [file for file in os.listdir(img_dir)]\n",
    "img_path = os.path.join(img_dir, file_list[-1])\n",
    "img_cv_grey = cv2.imread(img_path, cv2.IMREAD_GRAYSCALE)\n",
    "#plt_imshow(title='img', img=img_cv_grey, figsize=(18,12))\n",
    "\n",
    "recog_result = reader.recognize(img_cv_grey, horizontal_list=None, free_list=None,\\\n",
    "                  decoder = 'greedy', beamWidth= 5, batch_size = 1,\\\n",
    "                  workers = 0, allowlist = None, blocklist = None, detail = 1,\\\n",
    "                  rotation_info = None,paragraph = False,\\\n",
    "                  contrast_ths = 0.1,adjust_contrast = 0.5, filter_ths = 0.003,\\\n",
    "                  y_ths = 0.5, x_ths = 1.0, reformat=True, output_format='standard')"
   ]
  },
  {
   "cell_type": "code",
   "execution_count": null,
   "id": "e37970d5",
   "metadata": {},
   "outputs": [],
   "source": [
    "recog_result"
   ]
  },
  {
   "cell_type": "code",
   "execution_count": null,
   "id": "9e247006",
   "metadata": {},
   "outputs": [],
   "source": []
  },
  {
   "cell_type": "code",
   "execution_count": null,
   "id": "29a9d1fc",
   "metadata": {},
   "outputs": [],
   "source": []
  }
 ],
 "metadata": {
  "kernelspec": {
   "display_name": "easyocr_py39",
   "language": "python",
   "name": "easyocr_py39"
  },
  "language_info": {
   "codemirror_mode": {
    "name": "ipython",
    "version": 3
   },
   "file_extension": ".py",
   "mimetype": "text/x-python",
   "name": "python",
   "nbconvert_exporter": "python",
   "pygments_lexer": "ipython3",
   "version": "3.9.17"
  }
 },
 "nbformat": 4,
 "nbformat_minor": 5
}

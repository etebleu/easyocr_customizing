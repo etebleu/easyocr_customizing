{
 "cells": [
  {
   "cell_type": "code",
   "execution_count": 1,
   "id": "80ed055a",
   "metadata": {},
   "outputs": [],
   "source": [
    "import hashlib\n",
    "\n",
    "def calculate_md5(file_path):\n",
    "    with open(file_path, 'rb') as file:\n",
    "        data = file.read()\n",
    "        md5_hash = hashlib.md5(data).hexdigest()\n",
    "    return md5_hash"
   ]
  },
  {
   "cell_type": "code",
   "execution_count": 2,
   "id": "842ecc0e",
   "metadata": {},
   "outputs": [
    {
     "name": "stdout",
     "output_type": "stream",
     "text": [
      "0f75e50b2e84004d05ab2ffece18238e\n"
     ]
    }
   ],
   "source": [
    "# 파일의 MD5 해시 값 계산\n",
    "file_path = 'models/detection/craft_train_v2.pth'\n",
    "md5sum = calculate_md5(file_path)\n",
    "\n",
    "print(md5sum)"
   ]
  },
  {
   "cell_type": "code",
   "execution_count": null,
   "id": "47726818",
   "metadata": {},
   "outputs": [],
   "source": []
  }
 ],
 "metadata": {
  "kernelspec": {
   "display_name": "Python 3 (ipykernel)",
   "language": "python",
   "name": "python3"
  },
  "language_info": {
   "codemirror_mode": {
    "name": "ipython",
    "version": 3
   },
   "file_extension": ".py",
   "mimetype": "text/x-python",
   "name": "python",
   "nbconvert_exporter": "python",
   "pygments_lexer": "ipython3",
   "version": "3.11.3"
  }
 },
 "nbformat": 4,
 "nbformat_minor": 5
}
